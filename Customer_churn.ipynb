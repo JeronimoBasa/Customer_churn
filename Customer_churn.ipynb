{
 "cells": [
  {
   "cell_type": "code",
   "execution_count": 21,
   "metadata": {},
   "outputs": [],
   "source": [
    "import pandas as pd\n",
    "import numpy as np\n",
    "import matplotlib.pyplot as plt\n",
    "import tensorflow as tf\n",
    "from tensorflow import keras\n",
    "from pandas.api.types import CategoricalDtype\n",
    "from sklearn.preprocessing import MinMaxScaler\n",
    "from sklearn.model_selection import train_test_split\n",
    "from imblearn.over_sampling import SMOTE"
   ]
  },
  {
   "cell_type": "code",
   "execution_count": 24,
   "metadata": {},
   "outputs": [
    {
     "name": "stdout",
     "output_type": "stream",
     "text": [
      "(7032, 20)\n",
      "gender               object\n",
      "SeniorCitizen         int64\n",
      "Partner              object\n",
      "Dependents           object\n",
      "tenure                int64\n",
      "PhoneService         object\n",
      "MultipleLines        object\n",
      "InternetService      object\n",
      "OnlineSecurity       object\n",
      "OnlineBackup         object\n",
      "DeviceProtection     object\n",
      "TechSupport          object\n",
      "StreamingTV          object\n",
      "StreamingMovies      object\n",
      "Contract             object\n",
      "PaperlessBilling     object\n",
      "PaymentMethod        object\n",
      "MonthlyCharges      float64\n",
      "TotalCharges        float64\n",
      "Churn                object\n",
      "dtype: object\n"
     ]
    }
   ],
   "source": [
    "# Customer churn is the percentage of customers that stopped using your company's product or service during a certain time frame\n",
    "df = pd.read_csv(\"customerchurn.csv\")\n",
    "# Delete unnecessary columns\n",
    "df.drop(\"customerID\", axis=\"columns\",inplace=True)\n",
    "\n",
    "# The column Totalcharges is object type but it should be numeric, and it has some NA.\n",
    "idx = df.index[df.TotalCharges==' ']\n",
    "df = df.drop(idx)\n",
    "df.TotalCharges = pd.to_numeric(df.TotalCharges, errors='coerce')\n",
    "\n",
    "# Look at the Data Frame\n",
    "print(df.shape)\n",
    "print(df.dtypes)"
   ]
  },
  {
   "cell_type": "code",
   "execution_count": 25,
   "metadata": {},
   "outputs": [
    {
     "name": "stdout",
     "output_type": "stream",
     "text": [
      "0        1\n",
      "1       34\n",
      "3       45\n",
      "6       22\n",
      "7       10\n",
      "        ..\n",
      "7037    72\n",
      "7038    24\n",
      "7039    72\n",
      "7040    11\n",
      "7042    66\n",
      "Name: tenure, Length: 5163, dtype: int64\n",
      "2        2\n",
      "4        2\n",
      "5        8\n",
      "8       28\n",
      "13      49\n",
      "        ..\n",
      "7021    12\n",
      "7026     9\n",
      "7032     1\n",
      "7034    67\n",
      "7041     4\n",
      "Name: tenure, Length: 1869, dtype: int64\n"
     ]
    }
   ],
   "source": [
    "# tenure: Number of months the customer has stayed with the company\n",
    "# Churn: Whether the customer churned or not (Yes or No). If Yes, then the cliente is leaving\n",
    "# We can see the fact that the client is leaving as a function of the amount of months that he's in the company\n",
    "print(df[df.Churn==\"No\"].tenure)\n",
    "print(df[df.Churn==\"Yes\"].tenure)"
   ]
  },
  {
   "cell_type": "code",
   "execution_count": 26,
   "metadata": {},
   "outputs": [
    {
     "data": {
      "text/plain": [
       "<matplotlib.legend.Legend at 0x252f5525e20>"
      ]
     },
     "execution_count": 26,
     "metadata": {},
     "output_type": "execute_result"
    },
    {
     "data": {
      "image/png": "[encoded data removed]",
      "text/plain": [
       "<Figure size 720x360 with 1 Axes>"
      ]
     },
     "metadata": {
      "needs_background": "light"
     },
     "output_type": "display_data"
    }
   ],
   "source": [
    "# Histograms of Tenure and Churn\n",
    "ten_churn_no = df[df.Churn==\"No\"].tenure\n",
    "ten_churn_yes = df[df.Churn==\"Yes\"].tenure\n",
    "plt.figure(figsize=(10,5))\n",
    "plt.xlabel(\"Tenure\")\n",
    "plt.ylabel(\"Num. of Customers\")\n",
    "plt.title(\"Histograms of Tenure vs Churn\")\n",
    "plt.hist([ten_churn_yes, ten_churn_no], color = ['green','blue'], label=[\"Churn = Yes\", \"Churn = No\"])\n",
    "plt.legend()\n",
    "# It seems that those clients that are in the company for too long are more frequent to remain in the company\n",
    "# The majority of the clients that are leaving are those with a small amount of time within the company"
   ]
  },
  {
   "cell_type": "code",
   "execution_count": 27,
   "metadata": {},
   "outputs": [
    {
     "name": "stdout",
     "output_type": "stream",
     "text": [
      "gender : ['Female' 'Male']\n",
      "SeniorCitizen : [0 1]\n",
      "Partner : ['Yes' 'No']\n",
      "Dependents : ['No' 'Yes']\n",
      "tenure : [ 1 34  2 45  8 22 10 28 62 13 16 58 49 25 69 52 71 21 12 30 47 72 17 27\n",
      "  5 46 11 70 63 43 15 60 18 66  9  3 31 50 64 56  7 42 35 48 29 65 38 68\n",
      " 32 55 37 36 41  6  4 33 67 23 57 61 14 20 53 40 59 24 44 19 54 51 26 39]\n",
      "PhoneService : ['No' 'Yes']\n",
      "MultipleLines : ['No phone service' 'No' 'Yes']\n",
      "InternetService : ['DSL' 'Fiber optic' 'No']\n",
      "OnlineSecurity : ['No' 'Yes' 'No internet service']\n",
      "OnlineBackup : ['Yes' 'No' 'No internet service']\n",
      "DeviceProtection : ['No' 'Yes' 'No internet service']\n",
      "TechSupport : ['No' 'Yes' 'No internet service']\n",
      "StreamingTV : ['No' 'Yes' 'No internet service']\n",
      "StreamingMovies : ['No' 'Yes' 'No internet service']\n",
      "Contract : ['Month-to-month' 'One year' 'Two year']\n",
      "PaperlessBilling : ['Yes' 'No']\n",
      "PaymentMethod : ['Electronic check' 'Mailed check' 'Bank transfer (automatic)'\n",
      " 'Credit card (automatic)']\n",
      "MonthlyCharges : [29.85 56.95 53.85 ... 63.1  44.2  78.7 ]\n",
      "TotalCharges : [  29.85 1889.5   108.15 ...  346.45  306.6  6844.5 ]\n",
      "Churn : ['No' 'Yes']\n"
     ]
    }
   ],
   "source": [
    "# Define a structure function\n",
    "def structure(df):\n",
    "    for column in df:\n",
    "        print(f'{column} : {df[column].unique()}')\n",
    "\n",
    "structure(df)"
   ]
  },
  {
   "cell_type": "code",
   "execution_count": 28,
   "metadata": {},
   "outputs": [],
   "source": [
    "df.replace('No internet service', 'No', inplace=True)\n",
    "df.replace('No phone service', 'No', inplace=True)"
   ]
  },
  {
   "cell_type": "code",
   "execution_count": 29,
   "metadata": {},
   "outputs": [
    {
     "name": "stdout",
     "output_type": "stream",
     "text": [
      "['No' 'Yes']\n",
      "No     5163\n",
      "Yes    1869\n",
      "Name: Churn, dtype: int64\n"
     ]
    }
   ],
   "source": [
    "# Let's see how balance the data is\n",
    "print(df.Churn.unique())\n",
    "print(df.Churn.value_counts())"
   ]
  },
  {
   "cell_type": "code",
   "execution_count": 30,
   "metadata": {},
   "outputs": [],
   "source": [
    "# Transform the ['Yes', 'No'] columns into [1,0]\n",
    "yes_no_col = ['Partner', 'Dependents','PhoneService','MultipleLines','OnlineSecurity','OnlineBackup','DeviceProtection',\n",
    "'TechSupport','StreamingTV','StreamingMovies','PaperlessBilling','Churn']\n",
    "for col in yes_no_col:\n",
    "    df[col].replace({'Yes':1, 'No':0}, inplace=True)"
   ]
  },
  {
   "cell_type": "code",
   "execution_count": 31,
   "metadata": {},
   "outputs": [
    {
     "data": {
      "text/plain": [
       "gender                                       int64\n",
       "SeniorCitizen                                int64\n",
       "Partner                                      int64\n",
       "Dependents                                   int64\n",
       "tenure                                       int64\n",
       "PhoneService                                 int64\n",
       "MultipleLines                                int64\n",
       "OnlineSecurity                               int64\n",
       "OnlineBackup                                 int64\n",
       "DeviceProtection                             int64\n",
       "TechSupport                                  int64\n",
       "StreamingTV                                  int64\n",
       "StreamingMovies                              int64\n",
       "PaperlessBilling                             int64\n",
       "MonthlyCharges                             float64\n",
       "TotalCharges                               float64\n",
       "Churn                                        int64\n",
       "InternetService_DSL                          uint8\n",
       "InternetService_Fiber optic                  uint8\n",
       "InternetService_No                           uint8\n",
       "Contract_Month-to-month                      uint8\n",
       "Contract_One year                            uint8\n",
       "Contract_Two year                            uint8\n",
       "PaymentMethod_Bank transfer (automatic)      uint8\n",
       "PaymentMethod_Credit card (automatic)        uint8\n",
       "PaymentMethod_Electronic check               uint8\n",
       "PaymentMethod_Mailed check                   uint8\n",
       "dtype: object"
      ]
     },
     "execution_count": 31,
     "metadata": {},
     "output_type": "execute_result"
    }
   ],
   "source": [
    "# Gender variables\n",
    "df['gender'].replace({'Female':1, 'Male':0}, inplace=True)\n",
    "# Add dummies for multicategoric\n",
    "df = pd.get_dummies(data=df, columns=['InternetService','Contract', 'PaymentMethod'])\n",
    "df.dtypes"
   ]
  },
  {
   "cell_type": "code",
   "execution_count": 32,
   "metadata": {},
   "outputs": [],
   "source": [
    "cols_to_scale = ['tenure','MonthlyCharges','TotalCharges']\n",
    "scaler = MinMaxScaler()\n",
    "df[cols_to_scale] = scaler.fit_transform(df[cols_to_scale])"
   ]
  },
  {
   "cell_type": "code",
   "execution_count": 33,
   "metadata": {},
   "outputs": [
    {
     "name": "stdout",
     "output_type": "stream",
     "text": [
      "0    5163\n",
      "1    1869\n",
      "Name: Churn, dtype: int64\n"
     ]
    }
   ],
   "source": [
    "X = df.drop('Churn', axis = 'columns')\n",
    "y = df['Churn']\n",
    "print(y.value_counts())"
   ]
  },
  {
   "cell_type": "code",
   "execution_count": 34,
   "metadata": {},
   "outputs": [
    {
     "name": "stdout",
     "output_type": "stream",
     "text": [
      "0    5163\n",
      "1    5163\n",
      "Name: Churn, dtype: int64\n",
      "(8260, 26)\n",
      "(2066, 26)\n",
      "(8260,)\n",
      "(2066,)\n"
     ]
    }
   ],
   "source": [
    "# SMOTE to deal with unbalanced data\n",
    "smote = SMOTE(sampling_strategy='minority')\n",
    "X_sm, y_sm = smote.fit_resample(X,y)\n",
    "print(y_sm.value_counts())\n",
    "\n",
    "X_train, X_test, y_train, y_test = train_test_split(X_sm, y_sm, test_size=0.2, random_state=15, stratify=y_sm)\n",
    "\n",
    "print(X_train.shape)\n",
    "print(X_test.shape)\n",
    "print(y_train.shape)\n",
    "print(y_test.shape)"
   ]
  },
  {
   "cell_type": "code",
   "execution_count": 35,
   "metadata": {},
   "outputs": [
    {
     "name": "stdout",
     "output_type": "stream",
     "text": [
      "Epoch 1/100\n",
      "259/259 [==============================] - 2s 5ms/step - loss: 0.4825 - binary_accuracy: 0.7753\n",
      "Epoch 2/100\n",
      "259/259 [==============================] - 1s 5ms/step - loss: 0.4493 - binary_accuracy: 0.7883\n",
      "Epoch 3/100\n",
      "259/259 [==============================] - 1s 5ms/step - loss: 0.4343 - binary_accuracy: 0.8021\n",
      "Epoch 4/100\n",
      "259/259 [==============================] - 1s 6ms/step - loss: 0.4190 - binary_accuracy: 0.8098\n",
      "Epoch 5/100\n",
      "259/259 [==============================] - 1s 5ms/step - loss: 0.4014 - binary_accuracy: 0.8211\n",
      "Epoch 6/100\n",
      "259/259 [==============================] - 1s 5ms/step - loss: 0.3904 - binary_accuracy: 0.8283\n",
      "Epoch 7/100\n",
      "259/259 [==============================] - 1s 6ms/step - loss: 0.3784 - binary_accuracy: 0.8335\n",
      "Epoch 8/100\n",
      "259/259 [==============================] - 1s 5ms/step - loss: 0.3658 - binary_accuracy: 0.8408\n",
      "Epoch 9/100\n",
      "259/259 [==============================] - 1s 5ms/step - loss: 0.3501 - binary_accuracy: 0.8450\n",
      "Epoch 10/100\n",
      "259/259 [==============================] - 1s 5ms/step - loss: 0.3379 - binary_accuracy: 0.8538\n",
      "Epoch 11/100\n",
      "259/259 [==============================] - 1s 5ms/step - loss: 0.3235 - binary_accuracy: 0.8603\n",
      "Epoch 12/100\n",
      "259/259 [==============================] - 1s 5ms/step - loss: 0.3070 - binary_accuracy: 0.8679A: 0s - loss: 0.2977 - binary_acc\n",
      "Epoch 13/100\n",
      "259/259 [==============================] - 1s 5ms/step - loss: 0.2941 - binary_accuracy: 0.8755\n",
      "Epoch 14/100\n",
      "259/259 [==============================] - 1s 5ms/step - loss: 0.2795 - binary_accuracy: 0.8824\n",
      "Epoch 15/100\n",
      "259/259 [==============================] - 1s 6ms/step - loss: 0.2705 - binary_accuracy: 0.8880\n",
      "Epoch 16/100\n",
      "259/259 [==============================] - 1s 5ms/step - loss: 0.2556 - binary_accuracy: 0.8932\n",
      "Epoch 17/100\n",
      "259/259 [==============================] - 1s 5ms/step - loss: 0.2505 - binary_accuracy: 0.8961\n",
      "Epoch 18/100\n",
      "259/259 [==============================] - 1s 5ms/step - loss: 0.2311 - binary_accuracy: 0.9050\n",
      "Epoch 19/100\n",
      "259/259 [==============================] - 1s 5ms/step - loss: 0.2304 - binary_accuracy: 0.9039\n",
      "Epoch 20/100\n",
      "259/259 [==============================] - 1s 5ms/step - loss: 0.2126 - binary_accuracy: 0.9131\n",
      "Epoch 21/100\n",
      "259/259 [==============================] - 1s 5ms/step - loss: 0.2052 - binary_accuracy: 0.9165\n",
      "Epoch 22/100\n",
      "259/259 [==============================] - 1s 5ms/step - loss: 0.2032 - binary_accuracy: 0.9137\n",
      "Epoch 23/100\n",
      "259/259 [==============================] - 1s 5ms/step - loss: 0.2070 - binary_accuracy: 0.9138\n",
      "Epoch 24/100\n",
      "259/259 [==============================] - 1s 5ms/step - loss: 0.1921 - binary_accuracy: 0.9191\n",
      "Epoch 25/100\n",
      "259/259 [==============================] - 1s 5ms/step - loss: 0.1885 - binary_accuracy: 0.9191\n",
      "Epoch 26/100\n",
      "259/259 [==============================] - 1s 5ms/step - loss: 0.1878 - binary_accuracy: 0.9226\n",
      "Epoch 27/100\n",
      "259/259 [==============================] - 1s 5ms/step - loss: 0.1772 - binary_accuracy: 0.9248\n",
      "Epoch 28/100\n",
      "259/259 [==============================] - 1s 5ms/step - loss: 0.1676 - binary_accuracy: 0.9274\n",
      "Epoch 29/100\n",
      "259/259 [==============================] - 1s 5ms/step - loss: 0.1744 - binary_accuracy: 0.9272\n",
      "Epoch 30/100\n",
      "259/259 [==============================] - 1s 6ms/step - loss: 0.1691 - binary_accuracy: 0.9297\n",
      "Epoch 31/100\n",
      "259/259 [==============================] - 2s 6ms/step - loss: 0.1654 - binary_accuracy: 0.9293\n",
      "Epoch 32/100\n",
      "259/259 [==============================] - 2s 6ms/step - loss: 0.1573 - binary_accuracy: 0.9358\n",
      "Epoch 33/100\n",
      "259/259 [==============================] - 2s 6ms/step - loss: 0.1667 - binary_accuracy: 0.9295A: 0s - loss: 0.1669 - binary_accuracy: 0.9\n",
      "Epoch 34/100\n",
      "259/259 [==============================] - 2s 7ms/step - loss: 0.1502 - binary_accuracy: 0.9378\n",
      "Epoch 35/100\n",
      "259/259 [==============================] - 2s 8ms/step - loss: 0.1559 - binary_accuracy: 0.9364\n",
      "Epoch 36/100\n",
      "259/259 [==============================] - 2s 8ms/step - loss: 0.1566 - binary_accuracy: 0.9334\n",
      "Epoch 37/100\n",
      "259/259 [==============================] - 2s 9ms/step - loss: 0.1628 - binary_accuracy: 0.9312\n",
      "Epoch 38/100\n",
      "259/259 [==============================] - 2s 8ms/step - loss: 0.1423 - binary_accuracy: 0.9372\n",
      "Epoch 39/100\n",
      "259/259 [==============================] - 2s 7ms/step - loss: 0.1407 - binary_accuracy: 0.9401\n",
      "Epoch 40/100\n",
      "259/259 [==============================] - 2s 7ms/step - loss: 0.1413 - binary_accuracy: 0.9373\n",
      "Epoch 41/100\n",
      "259/259 [==============================] - 2s 7ms/step - loss: 0.1506 - binary_accuracy: 0.9350\n",
      "Epoch 42/100\n",
      "259/259 [==============================] - 2s 8ms/step - loss: 0.1490 - binary_accuracy: 0.9372\n",
      "Epoch 43/100\n",
      "259/259 [==============================] - 2s 7ms/step - loss: 0.1566 - binary_accuracy: 0.9333\n",
      "Epoch 44/100\n",
      "259/259 [==============================] - 2s 7ms/step - loss: 0.1409 - binary_accuracy: 0.9374\n",
      "Epoch 45/100\n",
      "259/259 [==============================] - 2s 7ms/step - loss: 0.1359 - binary_accuracy: 0.9387\n",
      "Epoch 46/100\n",
      "259/259 [==============================] - 2s 7ms/step - loss: 0.1421 - binary_accuracy: 0.9424A: 0s - loss: 0.1477 - binary_\n",
      "Epoch 47/100\n",
      "259/259 [==============================] - 2s 7ms/step - loss: 0.1321 - binary_accuracy: 0.9429\n",
      "Epoch 48/100\n",
      "259/259 [==============================] - 2s 7ms/step - loss: 0.1340 - binary_accuracy: 0.9409\n",
      "Epoch 49/100\n",
      "259/259 [==============================] - 2s 7ms/step - loss: 0.1530 - binary_accuracy: 0.9354\n",
      "Epoch 50/100\n",
      "259/259 [==============================] - 2s 7ms/step - loss: 0.1294 - binary_accuracy: 0.9433\n",
      "Epoch 51/100\n",
      "259/259 [==============================] - 2s 9ms/step - loss: 0.1303 - binary_accuracy: 0.9419A: 1s - loss: 0.1\n",
      "Epoch 52/100\n",
      "259/259 [==============================] - 2s 9ms/step - loss: 0.1265 - binary_accuracy: 0.9439\n",
      "Epoch 53/100\n",
      "259/259 [==============================] - 2s 8ms/step - loss: 0.1279 - binary_accuracy: 0.9462\n",
      "Epoch 54/100\n",
      "259/259 [==============================] - 1s 6ms/step - loss: 0.1299 - binary_accuracy: 0.9435\n",
      "Epoch 55/100\n",
      "259/259 [==============================] - 2s 6ms/step - loss: 0.1230 - binary_accuracy: 0.9454\n",
      "Epoch 56/100\n",
      "259/259 [==============================] - 1s 5ms/step - loss: 0.1305 - binary_accuracy: 0.9453A: 1s - loss: 0.1098 - \n",
      "Epoch 57/100\n",
      "259/259 [==============================] - 1s 5ms/step - loss: 0.1428 - binary_accuracy: 0.9385A: 1s - loss: 0.1345 - b\n",
      "Epoch 58/100\n",
      "259/259 [==============================] - 1s 6ms/step - loss: 0.1296 - binary_accuracy: 0.9454\n",
      "Epoch 59/100\n",
      "259/259 [==============================] - 2s 6ms/step - loss: 0.1328 - binary_accuracy: 0.9431\n",
      "Epoch 60/100\n",
      "259/259 [==============================] - 1s 5ms/step - loss: 0.1218 - binary_accuracy: 0.9450\n",
      "Epoch 61/100\n",
      "259/259 [==============================] - 1s 5ms/step - loss: 0.1157 - binary_accuracy: 0.9483\n",
      "Epoch 62/100\n",
      "259/259 [==============================] - 2s 6ms/step - loss: 0.1154 - binary_accuracy: 0.9485\n",
      "Epoch 63/100\n",
      "259/259 [==============================] - 1s 5ms/step - loss: 0.1142 - binary_accuracy: 0.9487\n",
      "Epoch 64/100\n",
      "259/259 [==============================] - 1s 6ms/step - loss: 0.1238 - binary_accuracy: 0.9455\n",
      "Epoch 65/100\n",
      "259/259 [==============================] - 2s 7ms/step - loss: 0.1362 - binary_accuracy: 0.9426A: 1s - loss: 0.1331 - binary_accuracy: - ETA: 0s - loss: 0.1294 - binary_a\n",
      "Epoch 66/100\n",
      "259/259 [==============================] - 1s 5ms/step - loss: 0.1295 - binary_accuracy: 0.9460\n",
      "Epoch 67/100\n",
      "259/259 [==============================] - 2s 7ms/step - loss: 0.1288 - binary_accuracy: 0.9455\n",
      "Epoch 68/100\n",
      "259/259 [==============================] - 1s 6ms/step - loss: 0.1158 - binary_accuracy: 0.9495\n",
      "Epoch 69/100\n",
      "259/259 [==============================] - 2s 6ms/step - loss: 0.1127 - binary_accuracy: 0.9510A: 0s - loss: 0.1125 - binary_accuracy: 0.9\n",
      "Epoch 70/100\n",
      "259/259 [==============================] - 1s 5ms/step - loss: 0.1193 - binary_accuracy: 0.9481\n",
      "Epoch 71/100\n",
      "259/259 [==============================] - 2s 6ms/step - loss: 0.1263 - binary_accuracy: 0.9469\n",
      "Epoch 72/100\n",
      "259/259 [==============================] - 1s 5ms/step - loss: 0.1138 - binary_accuracy: 0.9498\n",
      "Epoch 73/100\n",
      "259/259 [==============================] - 2s 6ms/step - loss: 0.1153 - binary_accuracy: 0.9502\n",
      "Epoch 74/100\n",
      "259/259 [==============================] - 2s 6ms/step - loss: 0.1153 - binary_accuracy: 0.9487\n",
      "Epoch 75/100\n",
      "259/259 [==============================] - 2s 6ms/step - loss: 0.1162 - binary_accuracy: 0.9488A: 1s - loss: 0.1431 \n",
      "Epoch 76/100\n",
      "259/259 [==============================] - 2s 6ms/step - loss: 0.1151 - binary_accuracy: 0.9506\n",
      "Epoch 77/100\n",
      "259/259 [==============================] - 2s 6ms/step - loss: 0.1191 - binary_accuracy: 0.9506\n",
      "Epoch 78/100\n",
      "259/259 [==============================] - 1s 6ms/step - loss: 0.1085 - binary_accuracy: 0.9516\n",
      "Epoch 79/100\n",
      "259/259 [==============================] - 2s 6ms/step - loss: 0.1233 - binary_accuracy: 0.9469\n",
      "Epoch 80/100\n",
      "259/259 [==============================] - 1s 5ms/step - loss: 0.1117 - binary_accuracy: 0.9495\n",
      "Epoch 81/100\n",
      "259/259 [==============================] - 1s 5ms/step - loss: 0.1198 - binary_accuracy: 0.9494\n",
      "Epoch 82/100\n",
      "259/259 [==============================] - 1s 5ms/step - loss: 0.1096 - binary_accuracy: 0.9524\n",
      "Epoch 83/100\n",
      "259/259 [==============================] - 1s 5ms/step - loss: 0.1071 - binary_accuracy: 0.9512\n",
      "Epoch 84/100\n",
      "259/259 [==============================] - 2s 6ms/step - loss: 0.1235 - binary_accuracy: 0.9456\n",
      "Epoch 85/100\n",
      "259/259 [==============================] - 1s 6ms/step - loss: 0.1048 - binary_accuracy: 0.9536\n",
      "Epoch 86/100\n",
      "259/259 [==============================] - 2s 7ms/step - loss: 0.1104 - binary_accuracy: 0.9515\n",
      "Epoch 87/100\n",
      "259/259 [==============================] - 2s 7ms/step - loss: 0.1092 - binary_accuracy: 0.9501\n",
      "Epoch 88/100\n",
      "259/259 [==============================] - 2s 6ms/step - loss: 0.1069 - binary_accuracy: 0.9525A: 2s - loss: 0.\n",
      "Epoch 89/100\n",
      "259/259 [==============================] - 2s 6ms/step - loss: 0.1123 - binary_accuracy: 0.9488\n",
      "Epoch 90/100\n",
      "259/259 [==============================] - 2s 6ms/step - loss: 0.1087 - binary_accuracy: 0.9508\n",
      "Epoch 91/100\n",
      "259/259 [==============================] - 1s 6ms/step - loss: 0.1368 - binary_accuracy: 0.9441\n",
      "Epoch 92/100\n",
      "259/259 [==============================] - 2s 6ms/step - loss: 0.1057 - binary_accuracy: 0.9521\n",
      "Epoch 93/100\n",
      "259/259 [==============================] - 2s 7ms/step - loss: 0.0978 - binary_accuracy: 0.9547\n",
      "Epoch 94/100\n",
      "259/259 [==============================] - 2s 7ms/step - loss: 0.0990 - binary_accuracy: 0.9535\n",
      "Epoch 95/100\n",
      "259/259 [==============================] - 2s 7ms/step - loss: 0.1093 - binary_accuracy: 0.9502\n",
      "Epoch 96/100\n",
      "259/259 [==============================] - 1s 6ms/step - loss: 0.1231 - binary_accuracy: 0.9482A: 1s - loss: 0.1437 \n",
      "Epoch 97/100\n",
      "259/259 [==============================] - 1s 6ms/step - loss: 0.1039 - binary_accuracy: 0.9539A: 0s - loss: 0.1050 - binary_accur\n",
      "Epoch 98/100\n",
      "259/259 [==============================] - 1s 5ms/step - loss: 0.1059 - binary_accuracy: 0.9515\n",
      "Epoch 99/100\n",
      "259/259 [==============================] - 2s 6ms/step - loss: 0.1077 - binary_accuracy: 0.9519\n",
      "Epoch 100/100\n",
      "259/259 [==============================] - 1s 5ms/step - loss: 0.1026 - binary_accuracy: 0.9534\n",
      "65/65 [==============================] - 0s 3ms/step - loss: 1.3278 - binary_accuracy: 0.8025\n"
     ]
    },
    {
     "data": {
      "text/plain": [
       "[1.3277848958969116, 0.8025169372558594]"
      ]
     },
     "execution_count": 35,
     "metadata": {},
     "output_type": "execute_result"
    }
   ],
   "source": [
    "model = keras.Sequential([\n",
    "    keras.layers.Dense(500, input_shape=(26,), activation='relu'),\n",
    "    keras.layers.Dense(200, activation='relu'),\n",
    "    keras.layers.Dense(150, activation='relu'),\n",
    "    keras.layers.Dense(100, activation='relu'),\n",
    "    keras.layers.Dense(1, activation='sigmoid'),\n",
    "])\n",
    "model.compile(optimizer='adam', loss = 'binary_crossentropy', metrics = 'BinaryAccuracy')\n",
    "model.fit(X_train, y_train, epochs = 100)\n",
    "model.evaluate(X_test, y_test)"
   ]
  },
  {
   "cell_type": "code",
   "execution_count": 36,
   "metadata": {},
   "outputs": [],
   "source": [
    "yp = model.predict(X_test)\n",
    "y_pred = []\n",
    "for i in yp:\n",
    "    if i > 0.5:\n",
    "        y_pred.append(1)\n",
    "    else:\n",
    "        y_pred.append(0)"
   ]
  },
  {
   "cell_type": "code",
   "execution_count": 37,
   "metadata": {},
   "outputs": [
    {
     "name": "stdout",
     "output_type": "stream",
     "text": [
      "              precision    recall  f1-score   support\n",
      "\n",
      "           0       0.82      0.77      0.80      1033\n",
      "           1       0.78      0.84      0.81      1033\n",
      "\n",
      "    accuracy                           0.80      2066\n",
      "   macro avg       0.80      0.80      0.80      2066\n",
      "weighted avg       0.80      0.80      0.80      2066\n",
      "\n"
     ]
    }
   ],
   "source": [
    "from sklearn.metrics import confusion_matrix, classification_report\n",
    "print(classification_report(y_test, y_pred))"
   ]
  },
  {
   "cell_type": "code",
   "execution_count": 38,
   "metadata": {},
   "outputs": [
    {
     "data": {
      "text/plain": [
       "Text(69.0, 0.5, 'Truth')"
      ]
     },
     "execution_count": 38,
     "metadata": {},
     "output_type": "execute_result"
    },
    {
     "data": {
      "image/png": "[encoded data removed]",
      "text/plain": [
       "<Figure size 720x504 with 2 Axes>"
      ]
     },
     "metadata": {
      "needs_background": "light"
     },
     "output_type": "display_data"
    }
   ],
   "source": [
    "# Create a confusion matrix to assess the predictions\n",
    "import seaborn as sn\n",
    "cm = tf.math.confusion_matrix(labels=y_test, predictions=y_pred)\n",
    "plt.figure(figsize=(10,7))\n",
    "sn.heatmap(cm,annot=True,fmt='d')\n",
    "plt.xlabel('Predicted')\n",
    "plt.ylabel('Truth')"
   ]
  }
 ],
 "metadata": {
  "interpreter": {
   "hash": "b3ba2566441a7c06988d0923437866b63cedc61552a5af99d1f4fb67d367b25f"
  },
  "kernelspec": {
   "display_name": "Python 3.8.8 64-bit ('base': conda)",
   "language": "python",
   "name": "python3"
  },
  "language_info": {
   "codemirror_mode": {
    "name": "ipython",
    "version": 3
   },
   "file_extension": ".py",
   "mimetype": "text/x-python",
   "name": "python",
   "nbconvert_exporter": "python",
   "pygments_lexer": "ipython3",
   "version": "3.9.7"
  },
  "orig_nbformat": 4
 },
 "nbformat": 4,
 "nbformat_minor": 2
}
