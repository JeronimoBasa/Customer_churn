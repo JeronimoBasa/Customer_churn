{
 "cells": [
  {
   "cell_type": "code",
   "execution_count": 1,
   "metadata": {},
   "outputs": [],
   "source": [
    "import pandas as pd\n",
    "import numpy as np\n",
    "import matplotlib.pyplot as plt\n",
    "import tensorflow as tf\n",
    "from tensorflow import keras\n",
    "from pandas.api.types import CategoricalDtype\n",
    "from sklearn.preprocessing import MinMaxScaler\n",
    "from sklearn.model_selection import train_test_split\n",
    "from imblearn.over_sampling import SMOTE"
   ]
  },
  {
   "cell_type": "code",
   "execution_count": 2,
   "metadata": {},
   "outputs": [
    {
     "name": "stdout",
     "output_type": "stream",
     "text": [
      "(7032, 20)\n",
      "gender               object\n",
      "SeniorCitizen         int64\n",
      "Partner              object\n",
      "Dependents           object\n",
      "tenure                int64\n",
      "PhoneService         object\n",
      "MultipleLines        object\n",
      "InternetService      object\n",
      "OnlineSecurity       object\n",
      "OnlineBackup         object\n",
      "DeviceProtection     object\n",
      "TechSupport          object\n",
      "StreamingTV          object\n",
      "StreamingMovies      object\n",
      "Contract             object\n",
      "PaperlessBilling     object\n",
      "PaymentMethod        object\n",
      "MonthlyCharges      float64\n",
      "TotalCharges        float64\n",
      "Churn                object\n",
      "dtype: object\n"
     ]
    }
   ],
   "source": [
    "# Customer churn is the percentage of customers that stopped using your company's product or service during a certain time frame\n",
    "df = pd.read_csv(\"customerchurn.csv\")\n",
    "# Delete unnecessary columns\n",
    "df.drop(\"customerID\", axis=\"columns\",inplace=True)\n",
    "\n",
    "# The column Totalcharges is object type but it should be numeric, and it has some NA.\n",
    "idx = df.index[df.TotalCharges==' ']\n",
    "df = df.drop(idx)\n",
    "df.TotalCharges = pd.to_numeric(df.TotalCharges, errors='coerce')\n",
    "\n",
    "# Look at the Data Frame\n",
    "print(df.shape)\n",
    "print(df.dtypes)"
   ]
  },
  {
   "cell_type": "code",
   "execution_count": 3,
   "metadata": {},
   "outputs": [
    {
     "name": "stdout",
     "output_type": "stream",
     "text": [
      "0        1\n",
      "1       34\n",
      "3       45\n",
      "6       22\n",
      "7       10\n",
      "        ..\n",
      "7037    72\n",
      "7038    24\n",
      "7039    72\n",
      "7040    11\n",
      "7042    66\n",
      "Name: tenure, Length: 5163, dtype: int64\n",
      "2        2\n",
      "4        2\n",
      "5        8\n",
      "8       28\n",
      "13      49\n",
      "        ..\n",
      "7021    12\n",
      "7026     9\n",
      "7032     1\n",
      "7034    67\n",
      "7041     4\n",
      "Name: tenure, Length: 1869, dtype: int64\n"
     ]
    }
   ],
   "source": [
    "# tenure: Number of months the customer has stayed with the company\n",
    "# Churn: Whether the customer churned or not (Yes or No). If Yes, then the cliente is leaving\n",
    "# We can see the fact that the client is leaving as a function of the amount of months that he's in the company\n",
    "print(df[df.Churn==\"No\"].tenure)\n",
    "print(df[df.Churn==\"Yes\"].tenure)"
   ]
  },
  {
   "cell_type": "code",
   "execution_count": 4,
   "metadata": {},
   "outputs": [
    {
     "data": {
      "text/plain": [
       "<matplotlib.legend.Legend at 0x14ef3ff1250>"
      ]
     },
     "execution_count": 4,
     "metadata": {},
     "output_type": "execute_result"
    },
    {
     "data": {
      "image/png": "[encoded data removed]",
      "text/plain": [
       "<Figure size 720x360 with 1 Axes>"
      ]
     },
     "metadata": {
      "needs_background": "light"
     },
     "output_type": "display_data"
    }
   ],
   "source": [
    "# Histograms of Tenure and Churn\n",
    "ten_churn_no = df[df.Churn==\"No\"].tenure\n",
    "ten_churn_yes = df[df.Churn==\"Yes\"].tenure\n",
    "plt.figure(figsize=(10,5))\n",
    "plt.xlabel(\"Tenure\")\n",
    "plt.ylabel(\"Num. of Customers\")\n",
    "plt.title(\"Histograms of Tenure vs Churn\")\n",
    "plt.hist([ten_churn_yes, ten_churn_no], color = ['green','blue'], label=[\"Churn = Yes\", \"Churn = No\"])\n",
    "plt.legend()\n",
    "# It seems that those clients that are in the company for too long are more frequent to remain in the company\n",
    "# The majority of the clients that are leaving are those with a small amount of time within the company"
   ]
  },
  {
   "cell_type": "code",
   "execution_count": 5,
   "metadata": {},
   "outputs": [
    {
     "name": "stdout",
     "output_type": "stream",
     "text": [
      "(7032, 20)\n",
      "gender (object) : ['Female' 'Male']\n",
      "SeniorCitizen (int64) : [0 1]\n",
      "Partner (object) : ['Yes' 'No']\n",
      "Dependents (object) : ['No' 'Yes']\n",
      "tenure (int64) : [ 1 34  2 45  8]\n",
      "PhoneService (object) : ['No' 'Yes']\n",
      "MultipleLines (object) : ['No phone service' 'No' 'Yes']\n",
      "InternetService (object) : ['DSL' 'Fiber optic' 'No']\n",
      "OnlineSecurity (object) : ['No' 'Yes' 'No internet service']\n",
      "OnlineBackup (object) : ['Yes' 'No' 'No internet service']\n",
      "DeviceProtection (object) : ['No' 'Yes' 'No internet service']\n",
      "TechSupport (object) : ['No' 'Yes' 'No internet service']\n",
      "StreamingTV (object) : ['No' 'Yes' 'No internet service']\n",
      "StreamingMovies (object) : ['No' 'Yes' 'No internet service']\n",
      "Contract (object) : ['Month-to-month' 'One year' 'Two year']\n",
      "PaperlessBilling (object) : ['Yes' 'No']\n",
      "PaymentMethod (object) : ['Electronic check' 'Mailed check' 'Bank transfer (automatic)'\n",
      " 'Credit card (automatic)']\n",
      "MonthlyCharges (float64) : [29.85 56.95 53.85 42.3  70.7 ]\n",
      "TotalCharges (float64) : [  29.85 1889.5   108.15 1840.75  151.65]\n",
      "Churn (object) : ['No' 'Yes']\n"
     ]
    }
   ],
   "source": [
    "# Define a structure function\n",
    "def structure(df):\n",
    "    print(df.shape)\n",
    "    for column in df:\n",
    "        print(f'{column} ({df[column].dtype}) : {df[column].unique()[0:5]}')\n",
    "\n",
    "structure(df)"
   ]
  },
  {
   "cell_type": "code",
   "execution_count": 6,
   "metadata": {},
   "outputs": [],
   "source": [
    "df.replace('No internet service', 'No', inplace=True)\n",
    "df.replace('No phone service', 'No', inplace=True)"
   ]
  },
  {
   "cell_type": "code",
   "execution_count": 7,
   "metadata": {},
   "outputs": [
    {
     "name": "stdout",
     "output_type": "stream",
     "text": [
      "['No' 'Yes']\n",
      "No     5163\n",
      "Yes    1869\n",
      "Name: Churn, dtype: int64\n"
     ]
    }
   ],
   "source": [
    "# Let's see how balance the data is\n",
    "print(df.Churn.unique())\n",
    "print(df.Churn.value_counts())"
   ]
  },
  {
   "cell_type": "code",
   "execution_count": 8,
   "metadata": {},
   "outputs": [],
   "source": [
    "# Transform the ['Yes', 'No'] columns into [1,0]\n",
    "yes_no_col = ['Partner', 'Dependents','PhoneService','MultipleLines','OnlineSecurity','OnlineBackup','DeviceProtection',\n",
    "'TechSupport','StreamingTV','StreamingMovies','PaperlessBilling','Churn']\n",
    "for col in yes_no_col:\n",
    "    df[col].replace({'Yes':1, 'No':0}, inplace=True)"
   ]
  },
  {
   "cell_type": "code",
   "execution_count": 9,
   "metadata": {},
   "outputs": [
    {
     "data": {
      "text/plain": [
       "gender                                       int64\n",
       "SeniorCitizen                                int64\n",
       "Partner                                      int64\n",
       "Dependents                                   int64\n",
       "tenure                                       int64\n",
       "PhoneService                                 int64\n",
       "MultipleLines                                int64\n",
       "OnlineSecurity                               int64\n",
       "OnlineBackup                                 int64\n",
       "DeviceProtection                             int64\n",
       "TechSupport                                  int64\n",
       "StreamingTV                                  int64\n",
       "StreamingMovies                              int64\n",
       "PaperlessBilling                             int64\n",
       "MonthlyCharges                             float64\n",
       "TotalCharges                               float64\n",
       "Churn                                        int64\n",
       "InternetService_DSL                          uint8\n",
       "InternetService_Fiber optic                  uint8\n",
       "InternetService_No                           uint8\n",
       "Contract_Month-to-month                      uint8\n",
       "Contract_One year                            uint8\n",
       "Contract_Two year                            uint8\n",
       "PaymentMethod_Bank transfer (automatic)      uint8\n",
       "PaymentMethod_Credit card (automatic)        uint8\n",
       "PaymentMethod_Electronic check               uint8\n",
       "PaymentMethod_Mailed check                   uint8\n",
       "dtype: object"
      ]
     },
     "execution_count": 9,
     "metadata": {},
     "output_type": "execute_result"
    }
   ],
   "source": [
    "# Gender variables\n",
    "df['gender'].replace({'Female':1, 'Male':0}, inplace=True)\n",
    "# Add dummies for multicategoric\n",
    "df = pd.get_dummies(data=df, columns=['InternetService','Contract', 'PaymentMethod'])\n",
    "df.dtypes"
   ]
  },
  {
   "cell_type": "code",
   "execution_count": 10,
   "metadata": {},
   "outputs": [],
   "source": [
    "cols_to_scale = ['tenure','MonthlyCharges','TotalCharges']\n",
    "scaler = MinMaxScaler()\n",
    "df[cols_to_scale] = scaler.fit_transform(df[cols_to_scale])"
   ]
  },
  {
   "cell_type": "code",
   "execution_count": 11,
   "metadata": {},
   "outputs": [
    {
     "name": "stdout",
     "output_type": "stream",
     "text": [
      "0    5163\n",
      "1    1869\n",
      "Name: Churn, dtype: int64\n"
     ]
    }
   ],
   "source": [
    "X = df.drop('Churn', axis = 'columns')\n",
    "y = df['Churn']\n",
    "print(y.value_counts())"
   ]
  },
  {
   "cell_type": "code",
   "execution_count": 12,
   "metadata": {},
   "outputs": [
    {
     "name": "stdout",
     "output_type": "stream",
     "text": [
      "0    5163\n",
      "1    5163\n",
      "Name: Churn, dtype: int64\n",
      "(8260, 26)\n",
      "(2066, 26)\n",
      "(8260,)\n",
      "(2066,)\n"
     ]
    }
   ],
   "source": [
    "# SMOTE to deal with unbalanced data\n",
    "smote = SMOTE(sampling_strategy='minority')\n",
    "X_sm, y_sm = smote.fit_resample(X,y)\n",
    "print(y_sm.value_counts())\n",
    "\n",
    "X_train, X_test, y_train, y_test = train_test_split(X_sm, y_sm, test_size=0.2, random_state=15, stratify=y_sm)\n",
    "\n",
    "print(X_train.shape)\n",
    "print(X_test.shape)\n",
    "print(y_train.shape)\n",
    "print(y_test.shape)"
   ]
  },
  {
   "cell_type": "code",
   "execution_count": 14,
   "metadata": {},
   "outputs": [
    {
     "name": "stdout",
     "output_type": "stream",
     "text": [
      "Epoch 1/100\n",
      "259/259 [==============================] - 8s 5ms/step - loss: 0.4840 - binary_accuracy: 0.7674\n",
      "Epoch 2/100\n",
      "259/259 [==============================] - 1s 5ms/step - loss: 0.4526 - binary_accuracy: 0.7863\n",
      "Epoch 3/100\n",
      "259/259 [==============================] - 1s 5ms/step - loss: 0.4362 - binary_accuracy: 0.7973\n",
      "Epoch 4/100\n",
      "259/259 [==============================] - 1s 4ms/step - loss: 0.4284 - binary_accuracy: 0.8008\n",
      "Epoch 5/100\n",
      "259/259 [==============================] - 1s 5ms/step - loss: 0.4078 - binary_accuracy: 0.8102\n",
      "Epoch 6/100\n",
      "259/259 [==============================] - 1s 5ms/step - loss: 0.3911 - binary_accuracy: 0.8241\n",
      "Epoch 7/100\n",
      "259/259 [==============================] - 2s 7ms/step - loss: 0.3803 - binary_accuracy: 0.8293A: 0s - loss: 0.3790 - binary_a\n",
      "Epoch 8/100\n",
      "259/259 [==============================] - 1s 5ms/step - loss: 0.3644 - binary_accuracy: 0.8384A: 0s - loss: 0.3643 - binary_accuracy\n",
      "Epoch 9/100\n",
      "259/259 [==============================] - 2s 7ms/step - loss: 0.3483 - binary_accuracy: 0.8459\n",
      "Epoch 10/100\n",
      "259/259 [==============================] - 2s 9ms/step - loss: 0.3384 - binary_accuracy: 0.8506A: 2s - loss: 0.3586 - binary_accuracy:  - ETA: 2s - loss: 0.339\n",
      "Epoch 11/100\n",
      "259/259 [==============================] - 2s 6ms/step - loss: 0.3256 - binary_accuracy: 0.8600\n",
      "Epoch 12/100\n",
      "259/259 [==============================] - 1s 6ms/step - loss: 0.3119 - binary_accuracy: 0.8671\n",
      "Epoch 13/100\n",
      "259/259 [==============================] - 1s 5ms/step - loss: 0.2979 - binary_accuracy: 0.8709\n",
      "Epoch 14/100\n",
      "259/259 [==============================] - 1s 5ms/step - loss: 0.2846 - binary_accuracy: 0.8787\n",
      "Epoch 15/100\n",
      "259/259 [==============================] - 1s 4ms/step - loss: 0.2736 - binary_accuracy: 0.8849\n",
      "Epoch 16/100\n",
      "259/259 [==============================] - 1s 5ms/step - loss: 0.2569 - binary_accuracy: 0.8907\n",
      "Epoch 17/100\n",
      "259/259 [==============================] - 1s 5ms/step - loss: 0.2472 - binary_accuracy: 0.8926\n",
      "Epoch 18/100\n",
      "259/259 [==============================] - 1s 4ms/step - loss: 0.2378 - binary_accuracy: 0.8979\n",
      "Epoch 19/100\n",
      "259/259 [==============================] - 1s 4ms/step - loss: 0.2267 - binary_accuracy: 0.9045\n",
      "Epoch 20/100\n",
      "259/259 [==============================] - 1s 4ms/step - loss: 0.2154 - binary_accuracy: 0.9081\n",
      "Epoch 21/100\n",
      "259/259 [==============================] - 1s 4ms/step - loss: 0.2165 - binary_accuracy: 0.9100\n",
      "Epoch 22/100\n",
      "259/259 [==============================] - 1s 5ms/step - loss: 0.2149 - binary_accuracy: 0.9100\n",
      "Epoch 23/100\n",
      "259/259 [==============================] - 1s 4ms/step - loss: 0.2040 - binary_accuracy: 0.9166\n",
      "Epoch 24/100\n",
      "259/259 [==============================] - 1s 4ms/step - loss: 0.1868 - binary_accuracy: 0.9236\n",
      "Epoch 25/100\n",
      "259/259 [==============================] - 1s 4ms/step - loss: 0.1956 - binary_accuracy: 0.9162A: 0s - loss: 0.1908 - binary_accuracy: 0\n",
      "Epoch 26/100\n",
      "259/259 [==============================] - 1s 5ms/step - loss: 0.1893 - binary_accuracy: 0.9207\n",
      "Epoch 27/100\n",
      "259/259 [==============================] - 1s 5ms/step - loss: 0.1727 - binary_accuracy: 0.9275A: 1s - loss: 0.1838 - binary_accur - ETA: 0s - loss: 0.1754 - binary_accuracy\n",
      "Epoch 28/100\n",
      "259/259 [==============================] - 1s 5ms/step - loss: 0.1754 - binary_accuracy: 0.9251A: 0s - loss: 0.1703 - bina\n",
      "Epoch 29/100\n",
      "259/259 [==============================] - 1s 5ms/step - loss: 0.1762 - binary_accuracy: 0.9268\n",
      "Epoch 30/100\n",
      "259/259 [==============================] - 1s 5ms/step - loss: 0.1704 - binary_accuracy: 0.9288\n",
      "Epoch 31/100\n",
      "259/259 [==============================] - 1s 4ms/step - loss: 0.1698 - binary_accuracy: 0.9297\n",
      "Epoch 32/100\n",
      "259/259 [==============================] - 1s 5ms/step - loss: 0.1598 - binary_accuracy: 0.9316\n",
      "Epoch 33/100\n",
      "259/259 [==============================] - 1s 4ms/step - loss: 0.1605 - binary_accuracy: 0.9323\n",
      "Epoch 34/100\n",
      "259/259 [==============================] - 1s 4ms/step - loss: 0.1812 - binary_accuracy: 0.9253\n",
      "Epoch 35/100\n",
      "259/259 [==============================] - 1s 4ms/step - loss: 0.1600 - binary_accuracy: 0.9324\n",
      "Epoch 36/100\n",
      "259/259 [==============================] - 1s 5ms/step - loss: 0.1476 - binary_accuracy: 0.9366A: 0s - loss: 0.1466 - binary_accuracy: 0.\n",
      "Epoch 37/100\n",
      "259/259 [==============================] - 1s 4ms/step - loss: 0.1514 - binary_accuracy: 0.9335\n",
      "Epoch 38/100\n",
      "259/259 [==============================] - 1s 5ms/step - loss: 0.1532 - binary_accuracy: 0.9337\n",
      "Epoch 39/100\n",
      "259/259 [==============================] - 1s 5ms/step - loss: 0.1664 - binary_accuracy: 0.9277\n",
      "Epoch 40/100\n",
      "259/259 [==============================] - 1s 5ms/step - loss: 0.1493 - binary_accuracy: 0.9355\n",
      "Epoch 41/100\n",
      "259/259 [==============================] - 1s 5ms/step - loss: 0.1408 - binary_accuracy: 0.9381\n",
      "Epoch 42/100\n",
      "259/259 [==============================] - 1s 5ms/step - loss: 0.1514 - binary_accuracy: 0.9355\n",
      "Epoch 43/100\n",
      "259/259 [==============================] - 1s 5ms/step - loss: 0.1472 - binary_accuracy: 0.9366\n",
      "Epoch 44/100\n",
      "259/259 [==============================] - 1s 5ms/step - loss: 0.1465 - binary_accuracy: 0.9364\n",
      "Epoch 45/100\n",
      "259/259 [==============================] - 1s 5ms/step - loss: 0.1450 - binary_accuracy: 0.9381\n",
      "Epoch 46/100\n",
      "259/259 [==============================] - 1s 5ms/step - loss: 0.1370 - binary_accuracy: 0.9389\n",
      "Epoch 47/100\n",
      "259/259 [==============================] - 1s 5ms/step - loss: 0.1433 - binary_accuracy: 0.9361\n",
      "Epoch 48/100\n",
      "259/259 [==============================] - 1s 5ms/step - loss: 0.1455 - binary_accuracy: 0.9368A: 1s - loss: 0.1353 - \n",
      "Epoch 49/100\n",
      "259/259 [==============================] - 1s 5ms/step - loss: 0.1524 - binary_accuracy: 0.9360\n",
      "Epoch 50/100\n",
      "259/259 [==============================] - 1s 5ms/step - loss: 0.1405 - binary_accuracy: 0.9395\n",
      "Epoch 51/100\n",
      "259/259 [==============================] - 1s 5ms/step - loss: 0.1321 - binary_accuracy: 0.9421\n",
      "Epoch 52/100\n",
      "259/259 [==============================] - 1s 5ms/step - loss: 0.1432 - binary_accuracy: 0.9392A: 0s - loss: 0.1471 - binary_accura\n",
      "Epoch 53/100\n",
      "259/259 [==============================] - 1s 5ms/step - loss: 0.1370 - binary_accuracy: 0.9397\n",
      "Epoch 54/100\n",
      "259/259 [==============================] - 1s 4ms/step - loss: 0.1272 - binary_accuracy: 0.9439\n",
      "Epoch 55/100\n",
      "259/259 [==============================] - 1s 5ms/step - loss: 0.1212 - binary_accuracy: 0.9470\n",
      "Epoch 56/100\n",
      "259/259 [==============================] - 1s 5ms/step - loss: 0.1436 - binary_accuracy: 0.9406\n",
      "Epoch 57/100\n",
      "259/259 [==============================] - 1s 5ms/step - loss: 0.1328 - binary_accuracy: 0.9414\n",
      "Epoch 58/100\n",
      "259/259 [==============================] - 1s 5ms/step - loss: 0.1372 - binary_accuracy: 0.9407\n",
      "Epoch 59/100\n",
      "259/259 [==============================] - 1s 4ms/step - loss: 0.1237 - binary_accuracy: 0.9462\n",
      "Epoch 60/100\n",
      "259/259 [==============================] - 1s 4ms/step - loss: 0.1267 - binary_accuracy: 0.9410\n",
      "Epoch 61/100\n",
      "259/259 [==============================] - 1s 4ms/step - loss: 0.1357 - binary_accuracy: 0.9424\n",
      "Epoch 62/100\n",
      "259/259 [==============================] - 1s 4ms/step - loss: 0.1290 - binary_accuracy: 0.9425\n",
      "Epoch 63/100\n",
      "259/259 [==============================] - 1s 4ms/step - loss: 0.1213 - binary_accuracy: 0.9467\n",
      "Epoch 64/100\n",
      "259/259 [==============================] - 1s 4ms/step - loss: 0.1244 - binary_accuracy: 0.9441\n",
      "Epoch 65/100\n",
      "259/259 [==============================] - 1s 5ms/step - loss: 0.1318 - binary_accuracy: 0.9443A: 0s - loss: 0.1157 - binar\n",
      "Epoch 66/100\n",
      "259/259 [==============================] - 1s 5ms/step - loss: 0.1274 - binary_accuracy: 0.9458\n",
      "Epoch 67/100\n",
      "259/259 [==============================] - 1s 5ms/step - loss: 0.1294 - binary_accuracy: 0.9424\n",
      "Epoch 68/100\n",
      "259/259 [==============================] - 1s 4ms/step - loss: 0.1221 - binary_accuracy: 0.9459\n",
      "Epoch 69/100\n",
      "259/259 [==============================] - 1s 4ms/step - loss: 0.1221 - binary_accuracy: 0.9485\n",
      "Epoch 70/100\n",
      "259/259 [==============================] - 1s 4ms/step - loss: 0.1252 - binary_accuracy: 0.9443\n",
      "Epoch 71/100\n",
      "259/259 [==============================] - 1s 4ms/step - loss: 0.1259 - binary_accuracy: 0.9454\n",
      "Epoch 72/100\n",
      "259/259 [==============================] - 1s 4ms/step - loss: 0.1226 - binary_accuracy: 0.9470\n",
      "Epoch 73/100\n",
      "259/259 [==============================] - 1s 5ms/step - loss: 0.1147 - binary_accuracy: 0.9477\n",
      "Epoch 74/100\n",
      "259/259 [==============================] - 1s 4ms/step - loss: 0.1212 - binary_accuracy: 0.9469\n",
      "Epoch 75/100\n",
      "259/259 [==============================] - 1s 5ms/step - loss: 0.1221 - binary_accuracy: 0.9473A: 0s - loss: 0.1202 - binary_accuracy: 0.\n",
      "Epoch 76/100\n",
      "259/259 [==============================] - 1s 5ms/step - loss: 0.1300 - binary_accuracy: 0.9438\n",
      "Epoch 77/100\n",
      "259/259 [==============================] - 1s 5ms/step - loss: 0.1243 - binary_accuracy: 0.9466A: 1s - loss: 0.1103 - bi\n",
      "Epoch 78/100\n",
      "259/259 [==============================] - 1s 5ms/step - loss: 0.1152 - binary_accuracy: 0.9489\n",
      "Epoch 79/100\n",
      "259/259 [==============================] - 1s 5ms/step - loss: 0.1150 - binary_accuracy: 0.9485\n",
      "Epoch 80/100\n",
      "259/259 [==============================] - 1s 5ms/step - loss: 0.1076 - binary_accuracy: 0.9506\n",
      "Epoch 81/100\n",
      "259/259 [==============================] - 1s 4ms/step - loss: 0.1099 - binary_accuracy: 0.9500\n",
      "Epoch 82/100\n",
      "259/259 [==============================] - 1s 5ms/step - loss: 0.1264 - binary_accuracy: 0.9447\n",
      "Epoch 83/100\n",
      "259/259 [==============================] - 1s 5ms/step - loss: 0.1193 - binary_accuracy: 0.9477\n",
      "Epoch 84/100\n",
      "259/259 [==============================] - 1s 5ms/step - loss: 0.1228 - binary_accuracy: 0.9467\n",
      "Epoch 85/100\n",
      "259/259 [==============================] - 1s 5ms/step - loss: 0.1164 - binary_accuracy: 0.9462\n",
      "Epoch 86/100\n",
      "259/259 [==============================] - 1s 5ms/step - loss: 0.1148 - binary_accuracy: 0.9489\n",
      "Epoch 87/100\n",
      "259/259 [==============================] - 1s 5ms/step - loss: 0.1165 - binary_accuracy: 0.9492\n",
      "Epoch 88/100\n",
      "259/259 [==============================] - 1s 5ms/step - loss: 0.1258 - binary_accuracy: 0.9465\n",
      "Epoch 89/100\n",
      "259/259 [==============================] - 1s 5ms/step - loss: 0.1126 - binary_accuracy: 0.9489\n",
      "Epoch 90/100\n",
      "259/259 [==============================] - 1s 5ms/step - loss: 0.1105 - binary_accuracy: 0.9507\n",
      "Epoch 91/100\n",
      "259/259 [==============================] - 1s 5ms/step - loss: 0.1183 - binary_accuracy: 0.9479\n",
      "Epoch 92/100\n",
      "259/259 [==============================] - 1s 5ms/step - loss: 0.1083 - binary_accuracy: 0.9512\n",
      "Epoch 93/100\n",
      "259/259 [==============================] - 1s 5ms/step - loss: 0.1022 - binary_accuracy: 0.9536\n",
      "Epoch 94/100\n",
      "259/259 [==============================] - 1s 5ms/step - loss: 0.1074 - binary_accuracy: 0.9529\n",
      "Epoch 95/100\n",
      "259/259 [==============================] - 1s 5ms/step - loss: 0.1051 - binary_accuracy: 0.9530\n",
      "Epoch 96/100\n",
      "259/259 [==============================] - 1s 5ms/step - loss: 0.1206 - binary_accuracy: 0.9496A: 0s - loss: 0.1140 - binary_\n",
      "Epoch 97/100\n",
      "259/259 [==============================] - 1s 5ms/step - loss: 0.1178 - binary_accuracy: 0.9473\n",
      "Epoch 98/100\n",
      "259/259 [==============================] - 1s 5ms/step - loss: 0.1187 - binary_accuracy: 0.9483\n",
      "Epoch 99/100\n",
      "259/259 [==============================] - 1s 4ms/step - loss: 0.1070 - binary_accuracy: 0.9512\n",
      "Epoch 100/100\n",
      "259/259 [==============================] - 1s 4ms/step - loss: 0.1081 - binary_accuracy: 0.9511\n",
      "65/65 [==============================] - 0s 2ms/step - loss: 1.1483 - binary_accuracy: 0.8059\n"
     ]
    },
    {
     "data": {
      "text/plain": [
       "[1.1483235359191895, 0.8059051036834717]"
      ]
     },
     "execution_count": 14,
     "metadata": {},
     "output_type": "execute_result"
    }
   ],
   "source": [
    "model = keras.Sequential([\n",
    "    keras.layers.Dense(500, input_shape=(26,), activation='relu'),\n",
    "    keras.layers.Dense(200, activation='relu'),\n",
    "    keras.layers.Dense(150, activation='relu'),\n",
    "    keras.layers.Dense(100, activation='relu'),\n",
    "    keras.layers.Dense(1, activation='sigmoid'),\n",
    "])\n",
    "model.compile(optimizer='adam', loss = 'binary_crossentropy', metrics = 'BinaryAccuracy')\n",
    "model.fit(X_train, y_train, epochs = 100)\n",
    "model.evaluate(X_test, y_test)"
   ]
  },
  {
   "cell_type": "code",
   "execution_count": 15,
   "metadata": {},
   "outputs": [],
   "source": [
    "yp = model.predict(X_test)\n",
    "y_pred = []\n",
    "for i in yp:\n",
    "    if i > 0.5:\n",
    "        y_pred.append(1)\n",
    "    else:\n",
    "        y_pred.append(0)"
   ]
  },
  {
   "cell_type": "code",
   "execution_count": 16,
   "metadata": {},
   "outputs": [
    {
     "name": "stdout",
     "output_type": "stream",
     "text": [
      "              precision    recall  f1-score   support\n",
      "\n",
      "           0       0.83      0.77      0.80      1033\n",
      "           1       0.79      0.84      0.81      1033\n",
      "\n",
      "    accuracy                           0.81      2066\n",
      "   macro avg       0.81      0.81      0.81      2066\n",
      "weighted avg       0.81      0.81      0.81      2066\n",
      "\n"
     ]
    }
   ],
   "source": [
    "from sklearn.metrics import confusion_matrix, classification_report\n",
    "print(classification_report(y_test, y_pred))"
   ]
  },
  {
   "cell_type": "code",
   "execution_count": 17,
   "metadata": {},
   "outputs": [
    {
     "data": {
      "text/plain": [
       "Text(69.0, 0.5, 'Truth')"
      ]
     },
     "execution_count": 17,
     "metadata": {},
     "output_type": "execute_result"
    },
    {
     "data": {
      "image/png": "[encoded data removed]",
      "text/plain": [
       "<Figure size 720x504 with 2 Axes>"
      ]
     },
     "metadata": {
      "needs_background": "light"
     },
     "output_type": "display_data"
    }
   ],
   "source": [
    "# Create a confusion matrix to assess the predictions\n",
    "import seaborn as sn\n",
    "cm = tf.math.confusion_matrix(labels=y_test, predictions=y_pred)\n",
    "plt.figure(figsize=(10,7))\n",
    "sn.heatmap(cm,annot=True,fmt='d')\n",
    "plt.xlabel('Predicted')\n",
    "plt.ylabel('Truth')"
   ]
  },
  {
   "cell_type": "markdown",
   "metadata": {},
   "source": [
    "Now using Random Forest from XGBOOST"
   ]
  },
  {
   "cell_type": "code",
   "execution_count": 24,
   "metadata": {},
   "outputs": [],
   "source": [
    "from xgboost import XGBClassifier"
   ]
  },
  {
   "cell_type": "code",
   "execution_count": 52,
   "metadata": {},
   "outputs": [
    {
     "name": "stderr",
     "output_type": "stream",
     "text": [
      "C:\\Users\\Jero\\.conda\\envs\\tf2.6\\lib\\site-packages\\xgboost\\sklearn.py:1224: UserWarning: The use of label encoder in XGBClassifier is deprecated and will be removed in a future release. To remove this warning, do the following: 1) Pass option use_label_encoder=False when constructing XGBClassifier object; and 2) Encode your labels (y) as integers starting with 0, i.e. 0, 1, 2, ..., [num_class - 1].\n",
      "  warnings.warn(label_encoder_deprecation_msg, UserWarning)\n"
     ]
    },
    {
     "name": "stdout",
     "output_type": "stream",
     "text": [
      "[12:48:24] WARNING: C:/Users/Administrator/workspace/xgboost-win64_release_1.5.1/src/learner.cc:576: \n",
      "Parameters: { \"silent\" } might not be used.\n",
      "\n",
      "  This could be a false alarm, with some parameters getting used by language bindings but\n",
      "  then being mistakenly passed down to XGBoost core, or some parameter actually being used\n",
      "  but getting flagged wrongly here. Please open an issue if you find any such cases.\n",
      "\n",
      "\n"
     ]
    }
   ],
   "source": [
    "param = {}\n",
    "param['booster'] = 'gbtree'\n",
    "param['objective'] = 'binary:logistic'\n",
    "param[\"eval_metric\"] = \"error\"\n",
    "param['eta'] = 0.5\n",
    "param['gamma'] = 0\n",
    "param['max_depth'] = 10\n",
    "param['min_child_weight']=1\n",
    "param['max_delta_step'] = 0\n",
    "param['subsample']= 1\n",
    "param['colsample_bytree']=1\n",
    "param['silent'] = 1\n",
    "param['seed'] = 0\n",
    "param['base_score'] = 0.5\n",
    "param['n_estimators'] = 1000\n",
    "model = XGBClassifier(**param)\n",
    "#model = XGBRegressor(n_jobs=-1,learning_rate=0.5,max_depth=2,\n",
    "#                        colsample_bytree=1, verbosity=1,subsample=1,n_estimators=500)\n",
    "model.fit(X_train,y_train)\n",
    "y_pred = model.predict(X_test)\n",
    "y_pred = [round(value) for value in y_pred]"
   ]
  },
  {
   "cell_type": "code",
   "execution_count": 53,
   "metadata": {},
   "outputs": [
    {
     "data": {
      "text/plain": [
       "Text(69.0, 0.5, 'Truth')"
      ]
     },
     "execution_count": 53,
     "metadata": {},
     "output_type": "execute_result"
    },
    {
     "data": {
      "image/png": "[encoded data removed]",
      "text/plain": [
       "<Figure size 720x504 with 2 Axes>"
      ]
     },
     "metadata": {
      "needs_background": "light"
     },
     "output_type": "display_data"
    }
   ],
   "source": [
    "# Create a confusion matrix to assess the predictions\n",
    "import seaborn as sn\n",
    "cm = tf.math.confusion_matrix(labels=y_test, predictions=y_pred)\n",
    "plt.figure(figsize=(10,7))\n",
    "sn.heatmap(cm,annot=True,fmt='d')\n",
    "plt.xlabel('Predicted')\n",
    "plt.ylabel('Truth')"
   ]
  },
  {
   "cell_type": "code",
   "execution_count": 55,
   "metadata": {},
   "outputs": [
    {
     "name": "stdout",
     "output_type": "stream",
     "text": [
      "              precision    recall  f1-score   support\n",
      "\n",
      "           0       0.83      0.81      0.82      1033\n",
      "           1       0.81      0.84      0.82      1033\n",
      "\n",
      "    accuracy                           0.82      2066\n",
      "   macro avg       0.82      0.82      0.82      2066\n",
      "weighted avg       0.82      0.82      0.82      2066\n",
      "\n"
     ]
    }
   ],
   "source": [
    "from sklearn.metrics import confusion_matrix, classification_report\n",
    "print(classification_report(y_test, y_pred))"
   ]
  }
 ],
 "metadata": {
  "interpreter": {
   "hash": "b3ba2566441a7c06988d0923437866b63cedc61552a5af99d1f4fb67d367b25f"
  },
  "kernelspec": {
   "display_name": "Python 3.8.8 64-bit ('base': conda)",
   "language": "python",
   "name": "python3"
  },
  "language_info": {
   "codemirror_mode": {
    "name": "ipython",
    "version": 3
   },
   "file_extension": ".py",
   "mimetype": "text/x-python",
   "name": "python",
   "nbconvert_exporter": "python",
   "pygments_lexer": "ipython3",
   "version": "3.9.7"
  },
  "orig_nbformat": 4
 },
 "nbformat": 4,
 "nbformat_minor": 2
}
